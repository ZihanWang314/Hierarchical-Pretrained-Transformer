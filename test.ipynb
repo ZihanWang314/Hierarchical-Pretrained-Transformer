{
 "cells": [
  {
   "cell_type": "code",
   "execution_count": 1,
   "metadata": {},
   "outputs": [],
   "source": [
    "%load_ext autoreload\n",
    "%autoreload 2"
   ]
  },
  {
   "cell_type": "code",
   "execution_count": 51,
   "metadata": {},
   "outputs": [],
   "source": [
    "import torch\n",
    "inputs = torch.load('../condqa_old/data/dev_inputs', map_location='cpu')"
   ]
  },
  {
   "cell_type": "code",
   "execution_count": 68,
   "metadata": {},
   "outputs": [
    {
     "data": {
      "text/plain": [
       "tensor([[111,   0,   1],\n",
       "        [192,   0,   1]])"
      ]
     },
     "execution_count": 68,
     "metadata": {},
     "output_type": "execute_result"
    }
   ],
   "source": [
    "inputs[3][-1].nonzero()\n"
   ]
  },
  {
   "cell_type": "code",
   "execution_count": 57,
   "metadata": {},
   "outputs": [],
   "source": [
    "ans_indicator = torch.tensor([[[1, 0, 0], [0, 0, 1]], [[0, 1, 0], [1, 0, 0]]])#1, 2, 3\n",
    "cond_indicator = torch.tensor([[[0, 1, 1], [1, 1, 0]], [[1, 1, 1], [0, 0, 0]]])\n",
    "cond_indicator = cond_indicator.unsqueeze(2).repeat(1, 1, 3, 1)# 1, 2, 3, 3\n",
    "cond_indicator = torch.einsum('abcd,abc->acd',cond_indicator, ans_indicator)\n"
   ]
  },
  {
   "cell_type": "code",
   "execution_count": 60,
   "metadata": {},
   "outputs": [
    {
     "data": {
      "text/plain": [
       "tensor([[[1, 1, 0],\n",
       "         [1, 1, 0],\n",
       "         [0, 0, 0]]])"
      ]
     },
     "execution_count": 60,
     "metadata": {},
     "output_type": "execute_result"
    }
   ],
   "source": [
    "A = torch.tensor([[1, 1, 0]])\n",
    "torch.einsum('ab,ac->abc',A, A)"
   ]
  },
  {
   "cell_type": "code",
   "execution_count": 36,
   "metadata": {},
   "outputs": [
    {
     "name": "stdout",
     "output_type": "stream",
     "text": [
      "[3, 0, 1, 2, 0, 1, 2]\n"
     ]
    }
   ],
   "source": [
    "print([i['has_answer'] for i in examples[25]['document'] if i['has_answer'] != -1])\n"
   ]
  },
  {
   "cell_type": "code",
   "execution_count": 21,
   "metadata": {},
   "outputs": [
    {
     "data": {
      "text/plain": [
       "{-1.0, 0.0, 1.0}"
      ]
     },
     "execution_count": 21,
     "metadata": {},
     "output_type": "execute_result"
    }
   ],
   "source": [
    "set(inputs[6][5].flatten().tolist())\n"
   ]
  },
  {
   "cell_type": "code",
   "execution_count": 25,
   "metadata": {},
   "outputs": [
    {
     "data": {
      "text/plain": [
       "tensor([1, 1, 1, 1, 1, 1])"
      ]
     },
     "execution_count": 25,
     "metadata": {},
     "output_type": "execute_result"
    }
   ],
   "source": [
    "inputs[6][7][inputs[6][7]!=0]"
   ]
  },
  {
   "cell_type": "code",
   "execution_count": 31,
   "metadata": {},
   "outputs": [],
   "source": [
    "for i in range(len(inputs)):\n",
    "    for j in [1, 2, 3, 7]:\n",
    "        inputs[i][j] = inputs[i][j].bool()"
   ]
  },
  {
   "cell_type": "code",
   "execution_count": 39,
   "metadata": {},
   "outputs": [],
   "source": [
    "from utils import ReIndexer\n",
    "indexer = ReIndexer()\n",
    "hiddens = torch.arange(40).reshape(2, 10, 2)\n",
    "mask = torch.rand(2, 10) > 0.8\n",
    "mask = mask.float()\n",
    "indexer.set_index(mask)\n",
    "new_hiddens, new_mask = indexer.re_index(hiddens)\n"
   ]
  },
  {
   "cell_type": "code",
   "execution_count": 45,
   "metadata": {},
   "outputs": [
    {
     "data": {
      "text/plain": [
       "tensor([[4, 0, 1, 2, 3, 5, 6, 7, 8, 9],\n",
       "        [1, 5, 0, 2, 3, 4, 6, 7, 8, 9]])"
      ]
     },
     "execution_count": 45,
     "metadata": {},
     "output_type": "execute_result"
    }
   ],
   "source": [
    "recovered_hiddens = "
   ]
  },
  {
   "cell_type": "code",
   "execution_count": 49,
   "metadata": {},
   "outputs": [],
   "source": [
    "recovered_hiddens = torch.empty_like(first_indexer.index.unsqueeze(-1).repeat(1, 1, 2)).scatter_(dim=1, index=first_indexer.index.unsqueeze(-1).repeat(1, 1, 2), src=new_hiddens)"
   ]
  },
  {
   "cell_type": "code",
   "execution_count": 30,
   "metadata": {},
   "outputs": [
    {
     "name": "stderr",
     "output_type": "stream",
     "text": [
      "checking long example..: 100%|██████████| 285/285 [00:00<00:00, 60223.52it/s]\n",
      "converting examples to inputs..: 100%|██████████| 352/352 [00:01<00:00, 182.42it/s]\n"
     ]
    }
   ],
   "source": [
    "from utils import convert_examples_to_inputs, Tokenizer\n",
    "tokenizer = Tokenizer('../condqa_old/model')\n",
    "inputs = convert_examples_to_inputs(examples, tokenizer)"
   ]
  },
  {
   "cell_type": "code",
   "execution_count": 32,
   "metadata": {},
   "outputs": [],
   "source": [
    "torch.save(inputs, '../condqa_old/data/dev_inputs')"
   ]
  },
  {
   "cell_type": "code",
   "execution_count": 33,
   "metadata": {},
   "outputs": [
    {
     "name": "stdout",
     "output_type": "stream",
     "text": [
      "torch.int64 torch.Size([4000])\n",
      "torch.bool torch.Size([4000])\n",
      "torch.bool torch.Size([4000])\n",
      "torch.bool torch.Size([4000])\n",
      "torch.float32 torch.Size([4000, 3])\n",
      "torch.float32 torch.Size([4000, 2])\n",
      "torch.int64 torch.Size([])\n",
      "torch.bool torch.Size([4000, 5, 2])\n"
     ]
    }
   ],
   "source": [
    "for i in inputs[0]:\n",
    "    print(i.dtype, i.shape)"
   ]
  },
  {
   "cell_type": "code",
   "execution_count": 4,
   "metadata": {},
   "outputs": [],
   "source": [
    "inputs = torch.load('../condqa_old/data/dev_inputs')"
   ]
  },
  {
   "cell_type": "code",
   "execution_count": 55,
   "metadata": {},
   "outputs": [
    {
     "data": {
      "text/plain": [
       "tensor(29)"
      ]
     },
     "execution_count": 55,
     "metadata": {},
     "output_type": "execute_result"
    }
   ],
   "source": [
    "inputs[38][-2]"
   ]
  },
  {
   "cell_type": "code",
   "execution_count": 59,
   "metadata": {},
   "outputs": [
    {
     "data": {
      "text/plain": [
       "tensor([[ 969,    0,    1],\n",
       "        [1142,    0,    0]])"
      ]
     },
     "execution_count": 59,
     "metadata": {},
     "output_type": "execute_result"
    }
   ],
   "source": [
    "inputs[39][-1].nonzero()\n"
   ]
  },
  {
   "cell_type": "code",
   "execution_count": null,
   "metadata": {},
   "outputs": [],
   "source": []
  }
 ],
 "metadata": {
  "kernelspec": {
   "display_name": "Python 3.9.12 ('base': conda)",
   "language": "python",
   "name": "python3"
  },
  "language_info": {
   "codemirror_mode": {
    "name": "ipython",
    "version": 3
   },
   "file_extension": ".py",
   "mimetype": "text/x-python",
   "name": "python",
   "nbconvert_exporter": "python",
   "pygments_lexer": "ipython3",
   "version": "3.9.12"
  },
  "orig_nbformat": 4,
  "vscode": {
   "interpreter": {
    "hash": "24ed5096eae9d1d51f3453e07736a83aafded0970b93f89b73ef375a69b11d68"
   }
  }
 },
 "nbformat": 4,
 "nbformat_minor": 2
}
